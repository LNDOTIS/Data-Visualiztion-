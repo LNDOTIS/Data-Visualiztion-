{
 "cells": [
  {
   "cell_type": "code",
   "execution_count": 3,
   "id": "206782ec-3ea3-45c1-add6-b9f5c170b963",
   "metadata": {
    "tags": []
   },
   "outputs": [
    {
     "name": "stdout",
     "output_type": "stream",
     "text": [
      "Merged CSV file saved as 'merged_file.csv'\n"
     ]
    }
   ],
   "source": [
    "import pandas as pd\n",
    "\n",
    "# Read the four CSV files into DataFrames\n",
    "# Assuming the files are named file1.csv, file2.csv, file3.csv, file4.csv\n",
    "# You can replace these with actual file paths if needed\n",
    "df1 = pd.read_csv('gini_coefficients.csv')  # First document\n",
    "df2 = pd.read_csv('literacy_rate.csv')  # Second document\n",
    "df3 = pd.read_csv('gdp_growth.csv')  # Third document\n",
    "df4 = pd.read_csv('politics.csv')  # Fourth document\n",
    "\n",
    "# Verify that all DataFrames have the same number of rows\n",
    "row_counts = [df.shape[0] for df in [df1, df2, df3, df4]]\n",
    "if len(set(row_counts)) != 1:\n",
    "    raise ValueError(f\"All CSV files must have the same number of rows. Row counts: {row_counts}\")\n",
    "\n",
    "# Rename columns to distinguish them, keeping \"Country\" as the common key\n",
    "df1.columns = ['Country', 'Most Recent Year_gini', 'Gini Index']\n",
    "df2.columns = ['Country', 'Most Recent Year_literacy', 'Literacy Rate']\n",
    "df3.columns = ['Country', 'Most Recent Year_GDP', 'GDP Growth']\n",
    "df4.columns = ['Country', 'Most Recent Year_politics', 'Political Stability']\n",
    "\n",
    "# Merge the DataFrames on the \"Country\" column\n",
    "merged_df = df1.merge(df2, on='Country', how='outer') \\\n",
    "               .merge(df3, on='Country', how='outer') \\\n",
    "               .merge(df4, on='Country', how='outer')\n",
    "\n",
    "# Save the merged DataFrame to a new CSV file\n",
    "merged_df.to_csv('merged_file.csv', index=False)\n",
    "\n",
    "print(\"Merged CSV file saved as 'merged_file.csv'\")"
   ]
  },
  {
   "cell_type": "code",
   "execution_count": null,
   "id": "5d1a1994-7fa9-426b-a797-a501a5ebab13",
   "metadata": {},
   "outputs": [],
   "source": []
  }
 ],
 "metadata": {
  "kernelspec": {
   "display_name": "Python 3",
   "language": "python",
   "name": "python3"
  },
  "language_info": {
   "codemirror_mode": {
    "name": "ipython",
    "version": 3
   },
   "file_extension": ".py",
   "mimetype": "text/x-python",
   "name": "python",
   "nbconvert_exporter": "python",
   "pygments_lexer": "ipython3",
   "version": "3.10.12"
  }
 },
 "nbformat": 4,
 "nbformat_minor": 5
}
